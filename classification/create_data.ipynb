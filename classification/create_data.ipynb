{
 "cells": [
  {
   "cell_type": "code",
   "execution_count": 2,
   "metadata": {},
   "outputs": [],
   "source": [
    "import pandas as pd\n",
    "from pandas import DataFrame\n",
    "from pandas import read_csv as read"
   ]
  },
  {
   "cell_type": "code",
   "execution_count": 13,
   "metadata": {},
   "outputs": [],
   "source": [
    "# Change the initial data used if necessary\n",
    "df = read('../data/initial_features_limited_interpolation.csv')"
   ]
  },
  {
   "cell_type": "code",
   "execution_count": 18,
   "metadata": {},
   "outputs": [],
   "source": [
    "def get_quantile_rows(group):\n",
    "    n = len(group)\n",
    "    first = group.iloc[:int(n * 0.2)]\n",
    "    last = group.iloc[int(n * 0.8):]\n",
    "\n",
    "    if max(last['rpe']) > 5:\n",
    "        first['rpe'] = 0\n",
    "        last['rpe'] = 1\n",
    "\n",
    "        return pd.concat([first, last])\n",
    "\n",
    "g = df.groupby(['subject', 'experimental_condition'])\n",
    "result_df = g.apply(get_quantile_rows).reset_index(drop=True)"
   ]
  },
  {
   "cell_type": "code",
   "execution_count": 20,
   "metadata": {},
   "outputs": [],
   "source": [
    "result_df.to_csv('../data/initial_features_classification.csv', header=True, index=False)"
   ]
  }
 ],
 "metadata": {
  "kernelspec": {
   "display_name": "venv",
   "language": "python",
   "name": "python3"
  },
  "language_info": {
   "codemirror_mode": {
    "name": "ipython",
    "version": 3
   },
   "file_extension": ".py",
   "mimetype": "text/x-python",
   "name": "python",
   "nbconvert_exporter": "python",
   "pygments_lexer": "ipython3",
   "version": "3.9.12"
  }
 },
 "nbformat": 4,
 "nbformat_minor": 2
}
