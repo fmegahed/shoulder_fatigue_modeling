{
 "cells": [
  {
   "cell_type": "code",
   "execution_count": 1,
   "metadata": {},
   "outputs": [],
   "source": [
    "import pandas as pd\n",
    "from pandas import read_csv as read"
   ]
  },
  {
   "cell_type": "code",
   "execution_count": 2,
   "metadata": {},
   "outputs": [],
   "source": [
    "df = read(\"outputs/test_general.csv\")"
   ]
  },
  {
   "cell_type": "code",
   "execution_count": 3,
   "metadata": {},
   "outputs": [
    {
     "data": {
      "text/plain": [
       "array(['ExtraTreesClassifier', 'LinearDiscriminantAnalysis',\n",
       "       'AdaBoostClassifier', 'KNeighborsClassifier',\n",
       "       'RandomForestClassifier', 'LogisticRegression',\n",
       "       'GradientBoostingClassifier', 'DecisionTreeClassifier',\n",
       "       'RidgeClassifier', 'QuadraticDiscriminantAnalysis',\n",
       "       'DummyClassifier', 'GaussianNB', 'LGBMClassifier', 'SGDClassifier'],\n",
       "      dtype=object)"
      ]
     },
     "execution_count": 3,
     "metadata": {},
     "output_type": "execute_result"
    }
   ],
   "source": [
    "df.Model.unique()"
   ]
  }
 ],
 "metadata": {
  "kernelspec": {
   "display_name": "venv",
   "language": "python",
   "name": "python3"
  },
  "language_info": {
   "codemirror_mode": {
    "name": "ipython",
    "version": 3
   },
   "file_extension": ".py",
   "mimetype": "text/x-python",
   "name": "python",
   "nbconvert_exporter": "python",
   "pygments_lexer": "ipython3",
   "version": "3.9.12"
  }
 },
 "nbformat": 4,
 "nbformat_minor": 2
}
