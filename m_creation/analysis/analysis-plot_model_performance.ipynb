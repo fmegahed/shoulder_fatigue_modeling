{
 "cells": [
  {
   "cell_type": "markdown",
   "metadata": {},
   "source": [
    "# Plotting Model Performance\n",
    "Here we will plot the results of the generated models on box plots, scatter plots and violin plots."
   ]
  }
 ],
 "metadata": {
  "language_info": {
   "name": "python"
  }
 },
 "nbformat": 4,
 "nbformat_minor": 2
}
