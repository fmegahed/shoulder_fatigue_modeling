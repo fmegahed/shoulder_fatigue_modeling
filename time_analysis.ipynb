{
 "cells": [
  {
   "cell_type": "code",
   "execution_count": 2,
   "metadata": {},
   "outputs": [],
   "source": [
    "from pycaret.datasets import get_data"
   ]
  },
  {
   "cell_type": "code",
   "execution_count": 27,
   "metadata": {},
   "outputs": [],
   "source": [
    "df = get_data('outputs/elapsed_time')\n",
    "\n",
    "df_c1 = df[df['Combinations'] == 1]\n",
    "df_c3 = df[df['Combinations'] == 3]"
   ]
  },
  {
   "cell_type": "code",
   "execution_count": 28,
   "metadata": {},
   "outputs": [
    {
     "data": {
      "text/plain": [
       "0     59156.609107\n",
       "3     86895.136639\n",
       "15    23852.588814\n",
       "Name: Time (seconds), dtype: float64"
      ]
     },
     "execution_count": 28,
     "metadata": {},
     "output_type": "execute_result"
    }
   ],
   "source": [
    "df_c3[df_c3['Type'] == 'df']['Time (seconds)']\n"
   ]
  },
  {
   "cell_type": "code",
   "execution_count": 29,
   "metadata": {},
   "outputs": [
    {
     "data": {
      "text/plain": [
       "1     17675.499572\n",
       "4     23778.281485\n",
       "16    66577.473580\n",
       "Name: Time (seconds), dtype: float64"
      ]
     },
     "execution_count": 29,
     "metadata": {},
     "output_type": "execute_result"
    }
   ],
   "source": [
    "df_c3[df_c3['Type'] == 'csv']['Time (seconds)']"
   ]
  },
  {
   "cell_type": "code",
   "execution_count": 30,
   "metadata": {},
   "outputs": [
    {
     "data": {
      "text/plain": [
       "2    56940.859949\n",
       "5    22948.700840\n",
       "Name: Time (seconds), dtype: float64"
      ]
     },
     "execution_count": 30,
     "metadata": {},
     "output_type": "execute_result"
    }
   ],
   "source": [
    "df_c3[df_c3['Type'] == 'pre']['Time (seconds)']"
   ]
  },
  {
   "cell_type": "code",
   "execution_count": 31,
   "metadata": {},
   "outputs": [],
   "source": [
    "min_times_c1 = {}\n",
    "min_times_c1['df'] = df_c1[df_c1['Type'] == 'df']['Time (seconds)'].min()\n",
    "min_times_c1['csv'] = df_c1[df_c1['Type'] == 'csv']['Time (seconds)'].min()\n",
    "min_times_c1['pre'] = df_c1[df_c1['Type'] == 'pre']['Time (seconds)'].min()"
   ]
  },
  {
   "cell_type": "code",
   "execution_count": 32,
   "metadata": {},
   "outputs": [],
   "source": [
    "min_times_c3 = {}\n",
    "min_times_c3['df'] = df_c3[df_c3['Type'] == 'df']['Time (seconds)'].min()\n",
    "min_times_c3['csv'] = df_c3[df_c3['Type'] == 'csv']['Time (seconds)'].min()\n",
    "min_times_c3['pre'] = df_c3[df_c3['Type'] == 'pre']['Time (seconds)'].min()"
   ]
  },
  {
   "cell_type": "code",
   "execution_count": 33,
   "metadata": {},
   "outputs": [
    {
     "data": {
      "text/plain": [
       "{'df': 860.5249879000476, 'csv': 860.1604118999094, 'pre': 862.7980473999633}"
      ]
     },
     "execution_count": 33,
     "metadata": {},
     "output_type": "execute_result"
    }
   ],
   "source": [
    "min_times_c1"
   ]
  },
  {
   "cell_type": "code",
   "execution_count": 34,
   "metadata": {},
   "outputs": [
    {
     "data": {
      "text/plain": [
       "{'df': 23852.58881370001, 'csv': 17675.4995719, 'pre': 22948.700839700003}"
      ]
     },
     "execution_count": 34,
     "metadata": {},
     "output_type": "execute_result"
    }
   ],
   "source": [
    "min_times_c3"
   ]
  }
 ],
 "metadata": {
  "kernelspec": {
   "display_name": ".venv",
   "language": "python",
   "name": "python3"
  },
  "language_info": {
   "codemirror_mode": {
    "name": "ipython",
    "version": 3
   },
   "file_extension": ".py",
   "mimetype": "text/x-python",
   "name": "python",
   "nbconvert_exporter": "python",
   "pygments_lexer": "ipython3",
   "version": "3.10.10"
  },
  "orig_nbformat": 4
 },
 "nbformat": 4,
 "nbformat_minor": 2
}
