{
 "cells": [
  {
   "attachments": {},
   "cell_type": "markdown",
   "metadata": {},
   "source": [
    "# Models\n",
    "## Creating General and Individual models to predict Rating Percieved Exertion (RPE)\n",
    "Using the `data/initial_features.csv` dataset and the Pycaret library, we will create models to predict the Rating Percieved Exertion of our subjects. We will create a general model to predict the RPE of any subject, and an individual model to predict the RPE of a specialized subject. \n",
    "\n",
    "#### What is Rating Percieved Exertion?\n",
    "The Borg Rating of Perceived Exertion (RPE) is a way of measuring physical activity intensity level. Perceived exertion is how hard you feel like your body is working.\n",
    "\n",
    "An image of the RPE scale for reference:\n",
    "\n",
    "![RPE Scale](https://www.researchgate.net/publication/327632653/figure/tbl2/AS:670492033830922@1536869166661/Rating-of-Perceived-Exertion-RPE-Scale-Borg-1962.png)\n",
    "<sub>From researchgate.net</sub>"
   ]
  },
  {
   "attachments": {},
   "cell_type": "markdown",
   "metadata": {},
   "source": [
    "#### First, we will import necessary libraries"
   ]
  },
  {
   "cell_type": "code",
   "execution_count": 13,
   "metadata": {},
   "outputs": [],
   "source": [
    "import matplotlib.pyplot as plt\n",
    "from pycaret.datasets import get_data\n",
    "from pycaret.regression import *"
   ]
  },
  {
   "attachments": {},
   "cell_type": "markdown",
   "metadata": {},
   "source": [
    "#### Next, we clean data\n",
    "The new columns *weight* and *pace* are added using the `experimental_condition` column.\n",
    "The RPE column has several NA values, so we replace those with necessary values\n",
    "\n",
    "<sub>Will improve this explanation later if needed</sub>"
   ]
  },
  {
   "cell_type": "code",
   "execution_count": 2,
   "metadata": {},
   "outputs": [],
   "source": [
    "df = get_data('data/initial_features')\n",
    "\n",
    "df[['weight', 'pace']] = df['experimental_condition'].str.split('-', expand=True)\n",
    "\n",
    "df['weight'] = df['weight'].str.replace('Condition ', '').astype(float)\n",
    "df['pace'] = df['pace'].astype(int)"
   ]
  },
  {
   "cell_type": "code",
   "execution_count": 3,
   "metadata": {},
   "outputs": [],
   "source": [
    "df['rpe'] = df['rpe'].fillna(method='ffill')\n",
    "df['rpe'] = df['rpe'].astype(int)       # Change this to float if necessary"
   ]
  },
  {
   "attachments": {},
   "cell_type": "markdown",
   "metadata": {},
   "source": [
    "First, I will create a general model to predict one of the conditions. In this example, I will use condition 1.5 - 15."
   ]
  },
  {
   "cell_type": "code",
   "execution_count": 42,
   "metadata": {},
   "outputs": [],
   "source": [
    "filt_condition = df['experimental_condition'] == 'Condition 1.5-15'\n",
    "filt_subject = df['subject'] == 1\n",
    "\n",
    "df_condition = df[filt_condition]"
   ]
  },
  {
   "cell_type": "code",
   "execution_count": 41,
   "metadata": {},
   "outputs": [
    {
     "data": {
      "text/html": [
       "<style type=\"text/css\">\n",
       "#T_5bdc0_row9_col1 {\n",
       "  background-color: lightgreen;\n",
       "}\n",
       "</style>\n",
       "<table id=\"T_5bdc0\">\n",
       "  <thead>\n",
       "    <tr>\n",
       "      <th class=\"blank level0\" >&nbsp;</th>\n",
       "      <th id=\"T_5bdc0_level0_col0\" class=\"col_heading level0 col0\" >Description</th>\n",
       "      <th id=\"T_5bdc0_level0_col1\" class=\"col_heading level0 col1\" >Value</th>\n",
       "    </tr>\n",
       "  </thead>\n",
       "  <tbody>\n",
       "    <tr>\n",
       "      <th id=\"T_5bdc0_level0_row0\" class=\"row_heading level0 row0\" >0</th>\n",
       "      <td id=\"T_5bdc0_row0_col0\" class=\"data row0 col0\" >Session id</td>\n",
       "      <td id=\"T_5bdc0_row0_col1\" class=\"data row0 col1\" >4330</td>\n",
       "    </tr>\n",
       "    <tr>\n",
       "      <th id=\"T_5bdc0_level0_row1\" class=\"row_heading level0 row1\" >1</th>\n",
       "      <td id=\"T_5bdc0_row1_col0\" class=\"data row1 col0\" >Target</td>\n",
       "      <td id=\"T_5bdc0_row1_col1\" class=\"data row1 col1\" >rpe</td>\n",
       "    </tr>\n",
       "    <tr>\n",
       "      <th id=\"T_5bdc0_level0_row2\" class=\"row_heading level0 row2\" >2</th>\n",
       "      <td id=\"T_5bdc0_row2_col0\" class=\"data row2 col0\" >Target type</td>\n",
       "      <td id=\"T_5bdc0_row2_col1\" class=\"data row2 col1\" >Regression</td>\n",
       "    </tr>\n",
       "    <tr>\n",
       "      <th id=\"T_5bdc0_level0_row3\" class=\"row_heading level0 row3\" >3</th>\n",
       "      <td id=\"T_5bdc0_row3_col0\" class=\"data row3 col0\" >Original data shape</td>\n",
       "      <td id=\"T_5bdc0_row3_col1\" class=\"data row3 col1\" >(637, 61)</td>\n",
       "    </tr>\n",
       "    <tr>\n",
       "      <th id=\"T_5bdc0_level0_row4\" class=\"row_heading level0 row4\" >4</th>\n",
       "      <td id=\"T_5bdc0_row4_col0\" class=\"data row4 col0\" >Transformed data shape</td>\n",
       "      <td id=\"T_5bdc0_row4_col1\" class=\"data row4 col1\" >(637, 61)</td>\n",
       "    </tr>\n",
       "    <tr>\n",
       "      <th id=\"T_5bdc0_level0_row5\" class=\"row_heading level0 row5\" >5</th>\n",
       "      <td id=\"T_5bdc0_row5_col0\" class=\"data row5 col0\" >Transformed train set shape</td>\n",
       "      <td id=\"T_5bdc0_row5_col1\" class=\"data row5 col1\" >(445, 61)</td>\n",
       "    </tr>\n",
       "    <tr>\n",
       "      <th id=\"T_5bdc0_level0_row6\" class=\"row_heading level0 row6\" >6</th>\n",
       "      <td id=\"T_5bdc0_row6_col0\" class=\"data row6 col0\" >Transformed test set shape</td>\n",
       "      <td id=\"T_5bdc0_row6_col1\" class=\"data row6 col1\" >(192, 61)</td>\n",
       "    </tr>\n",
       "    <tr>\n",
       "      <th id=\"T_5bdc0_level0_row7\" class=\"row_heading level0 row7\" >7</th>\n",
       "      <td id=\"T_5bdc0_row7_col0\" class=\"data row7 col0\" >Numeric features</td>\n",
       "      <td id=\"T_5bdc0_row7_col1\" class=\"data row7 col1\" >59</td>\n",
       "    </tr>\n",
       "    <tr>\n",
       "      <th id=\"T_5bdc0_level0_row8\" class=\"row_heading level0 row8\" >8</th>\n",
       "      <td id=\"T_5bdc0_row8_col0\" class=\"data row8 col0\" >Categorical features</td>\n",
       "      <td id=\"T_5bdc0_row8_col1\" class=\"data row8 col1\" >1</td>\n",
       "    </tr>\n",
       "    <tr>\n",
       "      <th id=\"T_5bdc0_level0_row9\" class=\"row_heading level0 row9\" >9</th>\n",
       "      <td id=\"T_5bdc0_row9_col0\" class=\"data row9 col0\" >Preprocess</td>\n",
       "      <td id=\"T_5bdc0_row9_col1\" class=\"data row9 col1\" >True</td>\n",
       "    </tr>\n",
       "    <tr>\n",
       "      <th id=\"T_5bdc0_level0_row10\" class=\"row_heading level0 row10\" >10</th>\n",
       "      <td id=\"T_5bdc0_row10_col0\" class=\"data row10 col0\" >Imputation type</td>\n",
       "      <td id=\"T_5bdc0_row10_col1\" class=\"data row10 col1\" >simple</td>\n",
       "    </tr>\n",
       "    <tr>\n",
       "      <th id=\"T_5bdc0_level0_row11\" class=\"row_heading level0 row11\" >11</th>\n",
       "      <td id=\"T_5bdc0_row11_col0\" class=\"data row11 col0\" >Numeric imputation</td>\n",
       "      <td id=\"T_5bdc0_row11_col1\" class=\"data row11 col1\" >mean</td>\n",
       "    </tr>\n",
       "    <tr>\n",
       "      <th id=\"T_5bdc0_level0_row12\" class=\"row_heading level0 row12\" >12</th>\n",
       "      <td id=\"T_5bdc0_row12_col0\" class=\"data row12 col0\" >Categorical imputation</td>\n",
       "      <td id=\"T_5bdc0_row12_col1\" class=\"data row12 col1\" >mode</td>\n",
       "    </tr>\n",
       "    <tr>\n",
       "      <th id=\"T_5bdc0_level0_row13\" class=\"row_heading level0 row13\" >13</th>\n",
       "      <td id=\"T_5bdc0_row13_col0\" class=\"data row13 col0\" >Maximum one-hot encoding</td>\n",
       "      <td id=\"T_5bdc0_row13_col1\" class=\"data row13 col1\" >25</td>\n",
       "    </tr>\n",
       "    <tr>\n",
       "      <th id=\"T_5bdc0_level0_row14\" class=\"row_heading level0 row14\" >14</th>\n",
       "      <td id=\"T_5bdc0_row14_col0\" class=\"data row14 col0\" >Encoding method</td>\n",
       "      <td id=\"T_5bdc0_row14_col1\" class=\"data row14 col1\" >None</td>\n",
       "    </tr>\n",
       "    <tr>\n",
       "      <th id=\"T_5bdc0_level0_row15\" class=\"row_heading level0 row15\" >15</th>\n",
       "      <td id=\"T_5bdc0_row15_col0\" class=\"data row15 col0\" >Fold Generator</td>\n",
       "      <td id=\"T_5bdc0_row15_col1\" class=\"data row15 col1\" >KFold</td>\n",
       "    </tr>\n",
       "    <tr>\n",
       "      <th id=\"T_5bdc0_level0_row16\" class=\"row_heading level0 row16\" >16</th>\n",
       "      <td id=\"T_5bdc0_row16_col0\" class=\"data row16 col0\" >Fold Number</td>\n",
       "      <td id=\"T_5bdc0_row16_col1\" class=\"data row16 col1\" >10</td>\n",
       "    </tr>\n",
       "    <tr>\n",
       "      <th id=\"T_5bdc0_level0_row17\" class=\"row_heading level0 row17\" >17</th>\n",
       "      <td id=\"T_5bdc0_row17_col0\" class=\"data row17 col0\" >CPU Jobs</td>\n",
       "      <td id=\"T_5bdc0_row17_col1\" class=\"data row17 col1\" >-1</td>\n",
       "    </tr>\n",
       "    <tr>\n",
       "      <th id=\"T_5bdc0_level0_row18\" class=\"row_heading level0 row18\" >18</th>\n",
       "      <td id=\"T_5bdc0_row18_col0\" class=\"data row18 col0\" >Use GPU</td>\n",
       "      <td id=\"T_5bdc0_row18_col1\" class=\"data row18 col1\" >False</td>\n",
       "    </tr>\n",
       "    <tr>\n",
       "      <th id=\"T_5bdc0_level0_row19\" class=\"row_heading level0 row19\" >19</th>\n",
       "      <td id=\"T_5bdc0_row19_col0\" class=\"data row19 col0\" >Log Experiment</td>\n",
       "      <td id=\"T_5bdc0_row19_col1\" class=\"data row19 col1\" >False</td>\n",
       "    </tr>\n",
       "    <tr>\n",
       "      <th id=\"T_5bdc0_level0_row20\" class=\"row_heading level0 row20\" >20</th>\n",
       "      <td id=\"T_5bdc0_row20_col0\" class=\"data row20 col0\" >Experiment Name</td>\n",
       "      <td id=\"T_5bdc0_row20_col1\" class=\"data row20 col1\" >reg-default-name</td>\n",
       "    </tr>\n",
       "    <tr>\n",
       "      <th id=\"T_5bdc0_level0_row21\" class=\"row_heading level0 row21\" >21</th>\n",
       "      <td id=\"T_5bdc0_row21_col0\" class=\"data row21 col0\" >USI</td>\n",
       "      <td id=\"T_5bdc0_row21_col1\" class=\"data row21 col1\" >fd39</td>\n",
       "    </tr>\n",
       "  </tbody>\n",
       "</table>\n"
      ],
      "text/plain": [
       "<pandas.io.formats.style.Styler at 0x25f5c6c6770>"
      ]
     },
     "metadata": {},
     "output_type": "display_data"
    },
    {
     "data": {
      "text/html": [
       "<div>\n",
       "<style scoped>\n",
       "    .dataframe tbody tr th:only-of-type {\n",
       "        vertical-align: middle;\n",
       "    }\n",
       "\n",
       "    .dataframe tbody tr th {\n",
       "        vertical-align: top;\n",
       "    }\n",
       "\n",
       "    .dataframe thead th {\n",
       "        text-align: right;\n",
       "    }\n",
       "</style>\n",
       "<table border=\"1\" class=\"dataframe\">\n",
       "  <thead>\n",
       "    <tr style=\"text-align: right;\">\n",
       "      <th></th>\n",
       "      <th></th>\n",
       "      <th></th>\n",
       "    </tr>\n",
       "    <tr>\n",
       "      <th></th>\n",
       "      <th></th>\n",
       "      <th></th>\n",
       "    </tr>\n",
       "  </thead>\n",
       "  <tbody>\n",
       "    <tr>\n",
       "      <th>Initiated</th>\n",
       "      <td>. . . . . . . . . . . . . . . . . .</td>\n",
       "      <td>21:56:56</td>\n",
       "    </tr>\n",
       "    <tr>\n",
       "      <th>Status</th>\n",
       "      <td>. . . . . . . . . . . . . . . . . .</td>\n",
       "      <td>Loading Dependencies</td>\n",
       "    </tr>\n",
       "    <tr>\n",
       "      <th>Estimator</th>\n",
       "      <td>. . . . . . . . . . . . . . . . . .</td>\n",
       "      <td>Compiling Library</td>\n",
       "    </tr>\n",
       "  </tbody>\n",
       "</table>\n",
       "</div>"
      ],
      "text/plain": [
       "                                                                    \n",
       "                                                                    \n",
       "Initiated  . . . . . . . . . . . . . . . . . .              21:56:56\n",
       "Status     . . . . . . . . . . . . . . . . . .  Loading Dependencies\n",
       "Estimator  . . . . . . . . . . . . . . . . . .     Compiling Library"
      ]
     },
     "metadata": {},
     "output_type": "display_data"
    },
    {
     "data": {
      "text/html": [
       "<style type=\"text/css\">\n",
       "</style>\n",
       "<table id=\"T_160ca\">\n",
       "  <thead>\n",
       "    <tr>\n",
       "      <th class=\"blank level0\" >&nbsp;</th>\n",
       "      <th id=\"T_160ca_level0_col0\" class=\"col_heading level0 col0\" >Model</th>\n",
       "      <th id=\"T_160ca_level0_col1\" class=\"col_heading level0 col1\" >MAE</th>\n",
       "      <th id=\"T_160ca_level0_col2\" class=\"col_heading level0 col2\" >MSE</th>\n",
       "      <th id=\"T_160ca_level0_col3\" class=\"col_heading level0 col3\" >RMSE</th>\n",
       "      <th id=\"T_160ca_level0_col4\" class=\"col_heading level0 col4\" >R2</th>\n",
       "      <th id=\"T_160ca_level0_col5\" class=\"col_heading level0 col5\" >RMSLE</th>\n",
       "      <th id=\"T_160ca_level0_col6\" class=\"col_heading level0 col6\" >MAPE</th>\n",
       "    </tr>\n",
       "  </thead>\n",
       "  <tbody>\n",
       "    <tr>\n",
       "      <th id=\"T_160ca_level0_row0\" class=\"row_heading level0 row0\" >0</th>\n",
       "      <td id=\"T_160ca_row0_col0\" class=\"data row0 col0\" >K Neighbors Regressor</td>\n",
       "      <td id=\"T_160ca_row0_col1\" class=\"data row0 col1\" >2.6768</td>\n",
       "      <td id=\"T_160ca_row0_col2\" class=\"data row0 col2\" >12.8598</td>\n",
       "      <td id=\"T_160ca_row0_col3\" class=\"data row0 col3\" >3.5861</td>\n",
       "      <td id=\"T_160ca_row0_col4\" class=\"data row0 col4\" >-0.5473</td>\n",
       "      <td id=\"T_160ca_row0_col5\" class=\"data row0 col5\" >1.1076</td>\n",
       "      <td id=\"T_160ca_row0_col6\" class=\"data row0 col6\" >0.6974</td>\n",
       "    </tr>\n",
       "  </tbody>\n",
       "</table>\n"
      ],
      "text/plain": [
       "<pandas.io.formats.style.Styler at 0x25f6c230700>"
      ]
     },
     "metadata": {},
     "output_type": "display_data"
    },
    {
     "data": {
      "application/vnd.jupyter.widget-view+json": {
       "model_id": "679a83d6e51c493ea6ee69dc11908831",
       "version_major": 2,
       "version_minor": 0
      },
      "text/plain": [
       "Processing:   0%|          | 0/77 [00:00<?, ?it/s]"
      ]
     },
     "metadata": {},
     "output_type": "display_data"
    },
    {
     "data": {
      "text/html": [
       "<style type=\"text/css\">\n",
       "</style>\n",
       "<table id=\"T_160ca\">\n",
       "  <thead>\n",
       "    <tr>\n",
       "      <th class=\"blank level0\" >&nbsp;</th>\n",
       "      <th id=\"T_160ca_level0_col0\" class=\"col_heading level0 col0\" >Model</th>\n",
       "      <th id=\"T_160ca_level0_col1\" class=\"col_heading level0 col1\" >MAE</th>\n",
       "      <th id=\"T_160ca_level0_col2\" class=\"col_heading level0 col2\" >MSE</th>\n",
       "      <th id=\"T_160ca_level0_col3\" class=\"col_heading level0 col3\" >RMSE</th>\n",
       "      <th id=\"T_160ca_level0_col4\" class=\"col_heading level0 col4\" >R2</th>\n",
       "      <th id=\"T_160ca_level0_col5\" class=\"col_heading level0 col5\" >RMSLE</th>\n",
       "      <th id=\"T_160ca_level0_col6\" class=\"col_heading level0 col6\" >MAPE</th>\n",
       "    </tr>\n",
       "  </thead>\n",
       "  <tbody>\n",
       "    <tr>\n",
       "      <th id=\"T_160ca_level0_row0\" class=\"row_heading level0 row0\" >0</th>\n",
       "      <td id=\"T_160ca_row0_col0\" class=\"data row0 col0\" >K Neighbors Regressor</td>\n",
       "      <td id=\"T_160ca_row0_col1\" class=\"data row0 col1\" >2.6768</td>\n",
       "      <td id=\"T_160ca_row0_col2\" class=\"data row0 col2\" >12.8598</td>\n",
       "      <td id=\"T_160ca_row0_col3\" class=\"data row0 col3\" >3.5861</td>\n",
       "      <td id=\"T_160ca_row0_col4\" class=\"data row0 col4\" >-0.5473</td>\n",
       "      <td id=\"T_160ca_row0_col5\" class=\"data row0 col5\" >1.1076</td>\n",
       "      <td id=\"T_160ca_row0_col6\" class=\"data row0 col6\" >0.6974</td>\n",
       "    </tr>\n",
       "  </tbody>\n",
       "</table>\n"
      ],
      "text/plain": [
       "<pandas.io.formats.style.Styler at 0x25f6c230700>"
      ]
     },
     "metadata": {},
     "output_type": "display_data"
    }
   ],
   "source": [
    "# Training a general model using specific condition (here, Condition 1.5-15)\n",
    "train = df_condition.loc[df_condition['subject'].isin(range(1, 13))]\n",
    "test = df_condition.loc[df_condition['subject'].isin(range(13, 16))]\n",
    "\n",
    "reg = setup(data=train, target='rpe')\n",
    "model_condition = compare_models()\n",
    "predictions = predict_model(model_condition, data=test)"
   ]
  },
  {
   "attachments": {},
   "cell_type": "markdown",
   "metadata": {},
   "source": [
    "Now, I'll create a general model for all conditions"
   ]
  },
  {
   "cell_type": "code",
   "execution_count": 38,
   "metadata": {},
   "outputs": [
    {
     "data": {
      "text/html": [
       "<div>\n",
       "<style scoped>\n",
       "    .dataframe tbody tr th:only-of-type {\n",
       "        vertical-align: middle;\n",
       "    }\n",
       "\n",
       "    .dataframe tbody tr th {\n",
       "        vertical-align: top;\n",
       "    }\n",
       "\n",
       "    .dataframe thead th {\n",
       "        text-align: right;\n",
       "    }\n",
       "</style>\n",
       "<table border=\"1\" class=\"dataframe\">\n",
       "  <thead>\n",
       "    <tr style=\"text-align: right;\">\n",
       "      <th></th>\n",
       "      <th></th>\n",
       "      <th></th>\n",
       "    </tr>\n",
       "    <tr>\n",
       "      <th></th>\n",
       "      <th></th>\n",
       "      <th></th>\n",
       "    </tr>\n",
       "  </thead>\n",
       "  <tbody>\n",
       "    <tr>\n",
       "      <th>Initiated</th>\n",
       "      <td>. . . . . . . . . . . . . . . . . .</td>\n",
       "      <td>21:54:42</td>\n",
       "    </tr>\n",
       "    <tr>\n",
       "      <th>Status</th>\n",
       "      <td>. . . . . . . . . . . . . . . . . .</td>\n",
       "      <td>Loading Dependencies</td>\n",
       "    </tr>\n",
       "    <tr>\n",
       "      <th>Estimator</th>\n",
       "      <td>. . . . . . . . . . . . . . . . . .</td>\n",
       "      <td>Compiling Library</td>\n",
       "    </tr>\n",
       "  </tbody>\n",
       "</table>\n",
       "</div>"
      ],
      "text/plain": [
       "                                                                    \n",
       "                                                                    \n",
       "Initiated  . . . . . . . . . . . . . . . . . .              21:54:42\n",
       "Status     . . . . . . . . . . . . . . . . . .  Loading Dependencies\n",
       "Estimator  . . . . . . . . . . . . . . . . . .     Compiling Library"
      ]
     },
     "metadata": {},
     "output_type": "display_data"
    },
    {
     "data": {
      "text/html": [
       "<style type=\"text/css\">\n",
       "</style>\n",
       "<table id=\"T_c5f9b\">\n",
       "  <thead>\n",
       "    <tr>\n",
       "      <th class=\"blank level0\" >&nbsp;</th>\n",
       "      <th id=\"T_c5f9b_level0_col0\" class=\"col_heading level0 col0\" >Model</th>\n",
       "      <th id=\"T_c5f9b_level0_col1\" class=\"col_heading level0 col1\" >MAE</th>\n",
       "      <th id=\"T_c5f9b_level0_col2\" class=\"col_heading level0 col2\" >MSE</th>\n",
       "      <th id=\"T_c5f9b_level0_col3\" class=\"col_heading level0 col3\" >RMSE</th>\n",
       "      <th id=\"T_c5f9b_level0_col4\" class=\"col_heading level0 col4\" >R2</th>\n",
       "      <th id=\"T_c5f9b_level0_col5\" class=\"col_heading level0 col5\" >RMSLE</th>\n",
       "      <th id=\"T_c5f9b_level0_col6\" class=\"col_heading level0 col6\" >MAPE</th>\n",
       "    </tr>\n",
       "  </thead>\n",
       "  <tbody>\n",
       "    <tr>\n",
       "      <th id=\"T_c5f9b_level0_row0\" class=\"row_heading level0 row0\" >0</th>\n",
       "      <td id=\"T_c5f9b_row0_col0\" class=\"data row0 col0\" >K Neighbors Regressor</td>\n",
       "      <td id=\"T_c5f9b_row0_col1\" class=\"data row0 col1\" >3.0292</td>\n",
       "      <td id=\"T_c5f9b_row0_col2\" class=\"data row0 col2\" >14.2658</td>\n",
       "      <td id=\"T_c5f9b_row0_col3\" class=\"data row0 col3\" >3.7770</td>\n",
       "      <td id=\"T_c5f9b_row0_col4\" class=\"data row0 col4\" >-1.0989</td>\n",
       "      <td id=\"T_c5f9b_row0_col5\" class=\"data row0 col5\" >1.1613</td>\n",
       "      <td id=\"T_c5f9b_row0_col6\" class=\"data row0 col6\" >0.9938</td>\n",
       "    </tr>\n",
       "  </tbody>\n",
       "</table>\n"
      ],
      "text/plain": [
       "<pandas.io.formats.style.Styler at 0x25f6c43dcc0>"
      ]
     },
     "metadata": {},
     "output_type": "display_data"
    },
    {
     "data": {
      "application/vnd.jupyter.widget-view+json": {
       "model_id": "8ba1e3d1e4ce4c0d8f83368db89c8c3f",
       "version_major": 2,
       "version_minor": 0
      },
      "text/plain": [
       "Processing:   0%|          | 0/77 [00:00<?, ?it/s]"
      ]
     },
     "metadata": {},
     "output_type": "display_data"
    },
    {
     "data": {
      "text/html": [
       "<style type=\"text/css\">\n",
       "</style>\n",
       "<table id=\"T_c5f9b\">\n",
       "  <thead>\n",
       "    <tr>\n",
       "      <th class=\"blank level0\" >&nbsp;</th>\n",
       "      <th id=\"T_c5f9b_level0_col0\" class=\"col_heading level0 col0\" >Model</th>\n",
       "      <th id=\"T_c5f9b_level0_col1\" class=\"col_heading level0 col1\" >MAE</th>\n",
       "      <th id=\"T_c5f9b_level0_col2\" class=\"col_heading level0 col2\" >MSE</th>\n",
       "      <th id=\"T_c5f9b_level0_col3\" class=\"col_heading level0 col3\" >RMSE</th>\n",
       "      <th id=\"T_c5f9b_level0_col4\" class=\"col_heading level0 col4\" >R2</th>\n",
       "      <th id=\"T_c5f9b_level0_col5\" class=\"col_heading level0 col5\" >RMSLE</th>\n",
       "      <th id=\"T_c5f9b_level0_col6\" class=\"col_heading level0 col6\" >MAPE</th>\n",
       "    </tr>\n",
       "  </thead>\n",
       "  <tbody>\n",
       "    <tr>\n",
       "      <th id=\"T_c5f9b_level0_row0\" class=\"row_heading level0 row0\" >0</th>\n",
       "      <td id=\"T_c5f9b_row0_col0\" class=\"data row0 col0\" >K Neighbors Regressor</td>\n",
       "      <td id=\"T_c5f9b_row0_col1\" class=\"data row0 col1\" >3.0292</td>\n",
       "      <td id=\"T_c5f9b_row0_col2\" class=\"data row0 col2\" >14.2658</td>\n",
       "      <td id=\"T_c5f9b_row0_col3\" class=\"data row0 col3\" >3.7770</td>\n",
       "      <td id=\"T_c5f9b_row0_col4\" class=\"data row0 col4\" >-1.0989</td>\n",
       "      <td id=\"T_c5f9b_row0_col5\" class=\"data row0 col5\" >1.1613</td>\n",
       "      <td id=\"T_c5f9b_row0_col6\" class=\"data row0 col6\" >0.9938</td>\n",
       "    </tr>\n",
       "  </tbody>\n",
       "</table>\n"
      ],
      "text/plain": [
       "<pandas.io.formats.style.Styler at 0x25f6c43dcc0>"
      ]
     },
     "metadata": {},
     "output_type": "display_data"
    }
   ],
   "source": [
    "# Training a general model for all conditions\n",
    "train = df.loc[df['subject'].isin(range(1, 13))]\n",
    "test = df.loc[df['subject'].isin(range(13, 16))]\n",
    "\n",
    "reg = setup(data=train, target='rpe')\n",
    "model_general = compare_models()\n",
    "predictions = predict_model(model_general, data=test)"
   ]
  },
  {
   "attachments": {},
   "cell_type": "markdown",
   "metadata": {},
   "source": [
    "We can see that the model for all conditions is worse than the model for specified predictions, although neither are very good."
   ]
  },
  {
   "attachments": {},
   "cell_type": "markdown",
   "metadata": {},
   "source": [
    "Now, we'll create an individual model for a sample subject. For this example, we will create an individual model for subject 1."
   ]
  },
  {
   "cell_type": "code",
   "execution_count": 44,
   "metadata": {},
   "outputs": [
    {
     "data": {
      "text/html": [
       "<div>\n",
       "<style scoped>\n",
       "    .dataframe tbody tr th:only-of-type {\n",
       "        vertical-align: middle;\n",
       "    }\n",
       "\n",
       "    .dataframe tbody tr th {\n",
       "        vertical-align: top;\n",
       "    }\n",
       "\n",
       "    .dataframe thead th {\n",
       "        text-align: right;\n",
       "    }\n",
       "</style>\n",
       "<table border=\"1\" class=\"dataframe\">\n",
       "  <thead>\n",
       "    <tr style=\"text-align: right;\">\n",
       "      <th></th>\n",
       "      <th></th>\n",
       "      <th></th>\n",
       "    </tr>\n",
       "    <tr>\n",
       "      <th></th>\n",
       "      <th></th>\n",
       "      <th></th>\n",
       "    </tr>\n",
       "  </thead>\n",
       "  <tbody>\n",
       "    <tr>\n",
       "      <th>Initiated</th>\n",
       "      <td>. . . . . . . . . . . . . . . . . .</td>\n",
       "      <td>22:00:26</td>\n",
       "    </tr>\n",
       "    <tr>\n",
       "      <th>Status</th>\n",
       "      <td>. . . . . . . . . . . . . . . . . .</td>\n",
       "      <td>Loading Dependencies</td>\n",
       "    </tr>\n",
       "    <tr>\n",
       "      <th>Estimator</th>\n",
       "      <td>. . . . . . . . . . . . . . . . . .</td>\n",
       "      <td>Compiling Library</td>\n",
       "    </tr>\n",
       "  </tbody>\n",
       "</table>\n",
       "</div>"
      ],
      "text/plain": [
       "                                                                    \n",
       "                                                                    \n",
       "Initiated  . . . . . . . . . . . . . . . . . .              22:00:26\n",
       "Status     . . . . . . . . . . . . . . . . . .  Loading Dependencies\n",
       "Estimator  . . . . . . . . . . . . . . . . . .     Compiling Library"
      ]
     },
     "metadata": {},
     "output_type": "display_data"
    },
    {
     "data": {
      "text/html": [
       "<style type=\"text/css\">\n",
       "</style>\n",
       "<table id=\"T_32625\">\n",
       "  <thead>\n",
       "    <tr>\n",
       "      <th class=\"blank level0\" >&nbsp;</th>\n",
       "      <th id=\"T_32625_level0_col0\" class=\"col_heading level0 col0\" >Model</th>\n",
       "      <th id=\"T_32625_level0_col1\" class=\"col_heading level0 col1\" >MAE</th>\n",
       "      <th id=\"T_32625_level0_col2\" class=\"col_heading level0 col2\" >MSE</th>\n",
       "      <th id=\"T_32625_level0_col3\" class=\"col_heading level0 col3\" >RMSE</th>\n",
       "      <th id=\"T_32625_level0_col4\" class=\"col_heading level0 col4\" >R2</th>\n",
       "      <th id=\"T_32625_level0_col5\" class=\"col_heading level0 col5\" >RMSLE</th>\n",
       "      <th id=\"T_32625_level0_col6\" class=\"col_heading level0 col6\" >MAPE</th>\n",
       "    </tr>\n",
       "  </thead>\n",
       "  <tbody>\n",
       "    <tr>\n",
       "      <th id=\"T_32625_level0_row0\" class=\"row_heading level0 row0\" >0</th>\n",
       "      <td id=\"T_32625_row0_col0\" class=\"data row0 col0\" >K Neighbors Regressor</td>\n",
       "      <td id=\"T_32625_row0_col1\" class=\"data row0 col1\" >0.1393</td>\n",
       "      <td id=\"T_32625_row0_col2\" class=\"data row0 col2\" >0.0764</td>\n",
       "      <td id=\"T_32625_row0_col3\" class=\"data row0 col3\" >0.2765</td>\n",
       "      <td id=\"T_32625_row0_col4\" class=\"data row0 col4\" >0.9222</td>\n",
       "      <td id=\"T_32625_row0_col5\" class=\"data row0 col5\" >0.1628</td>\n",
       "      <td id=\"T_32625_row0_col6\" class=\"data row0 col6\" >0.1258</td>\n",
       "    </tr>\n",
       "  </tbody>\n",
       "</table>\n"
      ],
      "text/plain": [
       "<pandas.io.formats.style.Styler at 0x25f6c117c70>"
      ]
     },
     "metadata": {},
     "output_type": "display_data"
    },
    {
     "data": {
      "text/html": [
       "<style type=\"text/css\">\n",
       "</style>\n",
       "<table id=\"T_32625\">\n",
       "  <thead>\n",
       "    <tr>\n",
       "      <th class=\"blank level0\" >&nbsp;</th>\n",
       "      <th id=\"T_32625_level0_col0\" class=\"col_heading level0 col0\" >Model</th>\n",
       "      <th id=\"T_32625_level0_col1\" class=\"col_heading level0 col1\" >MAE</th>\n",
       "      <th id=\"T_32625_level0_col2\" class=\"col_heading level0 col2\" >MSE</th>\n",
       "      <th id=\"T_32625_level0_col3\" class=\"col_heading level0 col3\" >RMSE</th>\n",
       "      <th id=\"T_32625_level0_col4\" class=\"col_heading level0 col4\" >R2</th>\n",
       "      <th id=\"T_32625_level0_col5\" class=\"col_heading level0 col5\" >RMSLE</th>\n",
       "      <th id=\"T_32625_level0_col6\" class=\"col_heading level0 col6\" >MAPE</th>\n",
       "    </tr>\n",
       "  </thead>\n",
       "  <tbody>\n",
       "    <tr>\n",
       "      <th id=\"T_32625_level0_row0\" class=\"row_heading level0 row0\" >0</th>\n",
       "      <td id=\"T_32625_row0_col0\" class=\"data row0 col0\" >K Neighbors Regressor</td>\n",
       "      <td id=\"T_32625_row0_col1\" class=\"data row0 col1\" >0.1393</td>\n",
       "      <td id=\"T_32625_row0_col2\" class=\"data row0 col2\" >0.0764</td>\n",
       "      <td id=\"T_32625_row0_col3\" class=\"data row0 col3\" >0.2765</td>\n",
       "      <td id=\"T_32625_row0_col4\" class=\"data row0 col4\" >0.9222</td>\n",
       "      <td id=\"T_32625_row0_col5\" class=\"data row0 col5\" >0.1628</td>\n",
       "      <td id=\"T_32625_row0_col6\" class=\"data row0 col6\" >0.1258</td>\n",
       "    </tr>\n",
       "  </tbody>\n",
       "</table>\n"
      ],
      "text/plain": [
       "<pandas.io.formats.style.Styler at 0x25f6c117c70>"
      ]
     },
     "metadata": {},
     "output_type": "display_data"
    },
    {
     "data": {
      "text/html": [
       "<style type=\"text/css\">\n",
       "</style>\n",
       "<table id=\"T_32625\">\n",
       "  <thead>\n",
       "    <tr>\n",
       "      <th class=\"blank level0\" >&nbsp;</th>\n",
       "      <th id=\"T_32625_level0_col0\" class=\"col_heading level0 col0\" >Model</th>\n",
       "      <th id=\"T_32625_level0_col1\" class=\"col_heading level0 col1\" >MAE</th>\n",
       "      <th id=\"T_32625_level0_col2\" class=\"col_heading level0 col2\" >MSE</th>\n",
       "      <th id=\"T_32625_level0_col3\" class=\"col_heading level0 col3\" >RMSE</th>\n",
       "      <th id=\"T_32625_level0_col4\" class=\"col_heading level0 col4\" >R2</th>\n",
       "      <th id=\"T_32625_level0_col5\" class=\"col_heading level0 col5\" >RMSLE</th>\n",
       "      <th id=\"T_32625_level0_col6\" class=\"col_heading level0 col6\" >MAPE</th>\n",
       "    </tr>\n",
       "  </thead>\n",
       "  <tbody>\n",
       "    <tr>\n",
       "      <th id=\"T_32625_level0_row0\" class=\"row_heading level0 row0\" >0</th>\n",
       "      <td id=\"T_32625_row0_col0\" class=\"data row0 col0\" >K Neighbors Regressor</td>\n",
       "      <td id=\"T_32625_row0_col1\" class=\"data row0 col1\" >0.1393</td>\n",
       "      <td id=\"T_32625_row0_col2\" class=\"data row0 col2\" >0.0764</td>\n",
       "      <td id=\"T_32625_row0_col3\" class=\"data row0 col3\" >0.2765</td>\n",
       "      <td id=\"T_32625_row0_col4\" class=\"data row0 col4\" >0.9222</td>\n",
       "      <td id=\"T_32625_row0_col5\" class=\"data row0 col5\" >0.1628</td>\n",
       "      <td id=\"T_32625_row0_col6\" class=\"data row0 col6\" >0.1258</td>\n",
       "    </tr>\n",
       "  </tbody>\n",
       "</table>\n"
      ],
      "text/plain": [
       "<pandas.io.formats.style.Styler at 0x25f6c117c70>"
      ]
     },
     "metadata": {},
     "output_type": "display_data"
    }
   ],
   "source": [
    "df_subject = df[filt_subject]\n",
    "\n",
    "train = df_subject.sample(frac=0.8, random_state=42)\n",
    "test = df_subject.drop(train.index)\n",
    "\n",
    "reg = setup(data=train, target='rpe')\n",
    "model_subject = compare_models()\n",
    "predictions = predict_model(model_subject, data=test)"
   ]
  },
  {
   "attachments": {},
   "cell_type": "markdown",
   "metadata": {},
   "source": [
    "So far, this model has been the best/most accurate at predicting. But what if we create a general model for subject 1 and specify a condition? In this next example, we will create an individual model for subject 1 under Condition 1.5-15."
   ]
  },
  {
   "cell_type": "code",
   "execution_count": 49,
   "metadata": {},
   "outputs": [
    {
     "data": {
      "text/html": [
       "<style type=\"text/css\">\n",
       "#T_519f3_row9_col1 {\n",
       "  background-color: lightgreen;\n",
       "}\n",
       "</style>\n",
       "<table id=\"T_519f3\">\n",
       "  <thead>\n",
       "    <tr>\n",
       "      <th class=\"blank level0\" >&nbsp;</th>\n",
       "      <th id=\"T_519f3_level0_col0\" class=\"col_heading level0 col0\" >Description</th>\n",
       "      <th id=\"T_519f3_level0_col1\" class=\"col_heading level0 col1\" >Value</th>\n",
       "    </tr>\n",
       "  </thead>\n",
       "  <tbody>\n",
       "    <tr>\n",
       "      <th id=\"T_519f3_level0_row0\" class=\"row_heading level0 row0\" >0</th>\n",
       "      <td id=\"T_519f3_row0_col0\" class=\"data row0 col0\" >Session id</td>\n",
       "      <td id=\"T_519f3_row0_col1\" class=\"data row0 col1\" >7209</td>\n",
       "    </tr>\n",
       "    <tr>\n",
       "      <th id=\"T_519f3_level0_row1\" class=\"row_heading level0 row1\" >1</th>\n",
       "      <td id=\"T_519f3_row1_col0\" class=\"data row1 col0\" >Target</td>\n",
       "      <td id=\"T_519f3_row1_col1\" class=\"data row1 col1\" >rpe</td>\n",
       "    </tr>\n",
       "    <tr>\n",
       "      <th id=\"T_519f3_level0_row2\" class=\"row_heading level0 row2\" >2</th>\n",
       "      <td id=\"T_519f3_row2_col0\" class=\"data row2 col0\" >Target type</td>\n",
       "      <td id=\"T_519f3_row2_col1\" class=\"data row2 col1\" >Regression</td>\n",
       "    </tr>\n",
       "    <tr>\n",
       "      <th id=\"T_519f3_level0_row3\" class=\"row_heading level0 row3\" >3</th>\n",
       "      <td id=\"T_519f3_row3_col0\" class=\"data row3 col0\" >Original data shape</td>\n",
       "      <td id=\"T_519f3_row3_col1\" class=\"data row3 col1\" >(78, 61)</td>\n",
       "    </tr>\n",
       "    <tr>\n",
       "      <th id=\"T_519f3_level0_row4\" class=\"row_heading level0 row4\" >4</th>\n",
       "      <td id=\"T_519f3_row4_col0\" class=\"data row4 col0\" >Transformed data shape</td>\n",
       "      <td id=\"T_519f3_row4_col1\" class=\"data row4 col1\" >(78, 61)</td>\n",
       "    </tr>\n",
       "    <tr>\n",
       "      <th id=\"T_519f3_level0_row5\" class=\"row_heading level0 row5\" >5</th>\n",
       "      <td id=\"T_519f3_row5_col0\" class=\"data row5 col0\" >Transformed train set shape</td>\n",
       "      <td id=\"T_519f3_row5_col1\" class=\"data row5 col1\" >(54, 61)</td>\n",
       "    </tr>\n",
       "    <tr>\n",
       "      <th id=\"T_519f3_level0_row6\" class=\"row_heading level0 row6\" >6</th>\n",
       "      <td id=\"T_519f3_row6_col0\" class=\"data row6 col0\" >Transformed test set shape</td>\n",
       "      <td id=\"T_519f3_row6_col1\" class=\"data row6 col1\" >(24, 61)</td>\n",
       "    </tr>\n",
       "    <tr>\n",
       "      <th id=\"T_519f3_level0_row7\" class=\"row_heading level0 row7\" >7</th>\n",
       "      <td id=\"T_519f3_row7_col0\" class=\"data row7 col0\" >Numeric features</td>\n",
       "      <td id=\"T_519f3_row7_col1\" class=\"data row7 col1\" >59</td>\n",
       "    </tr>\n",
       "    <tr>\n",
       "      <th id=\"T_519f3_level0_row8\" class=\"row_heading level0 row8\" >8</th>\n",
       "      <td id=\"T_519f3_row8_col0\" class=\"data row8 col0\" >Categorical features</td>\n",
       "      <td id=\"T_519f3_row8_col1\" class=\"data row8 col1\" >1</td>\n",
       "    </tr>\n",
       "    <tr>\n",
       "      <th id=\"T_519f3_level0_row9\" class=\"row_heading level0 row9\" >9</th>\n",
       "      <td id=\"T_519f3_row9_col0\" class=\"data row9 col0\" >Preprocess</td>\n",
       "      <td id=\"T_519f3_row9_col1\" class=\"data row9 col1\" >True</td>\n",
       "    </tr>\n",
       "    <tr>\n",
       "      <th id=\"T_519f3_level0_row10\" class=\"row_heading level0 row10\" >10</th>\n",
       "      <td id=\"T_519f3_row10_col0\" class=\"data row10 col0\" >Imputation type</td>\n",
       "      <td id=\"T_519f3_row10_col1\" class=\"data row10 col1\" >simple</td>\n",
       "    </tr>\n",
       "    <tr>\n",
       "      <th id=\"T_519f3_level0_row11\" class=\"row_heading level0 row11\" >11</th>\n",
       "      <td id=\"T_519f3_row11_col0\" class=\"data row11 col0\" >Numeric imputation</td>\n",
       "      <td id=\"T_519f3_row11_col1\" class=\"data row11 col1\" >mean</td>\n",
       "    </tr>\n",
       "    <tr>\n",
       "      <th id=\"T_519f3_level0_row12\" class=\"row_heading level0 row12\" >12</th>\n",
       "      <td id=\"T_519f3_row12_col0\" class=\"data row12 col0\" >Categorical imputation</td>\n",
       "      <td id=\"T_519f3_row12_col1\" class=\"data row12 col1\" >mode</td>\n",
       "    </tr>\n",
       "    <tr>\n",
       "      <th id=\"T_519f3_level0_row13\" class=\"row_heading level0 row13\" >13</th>\n",
       "      <td id=\"T_519f3_row13_col0\" class=\"data row13 col0\" >Maximum one-hot encoding</td>\n",
       "      <td id=\"T_519f3_row13_col1\" class=\"data row13 col1\" >25</td>\n",
       "    </tr>\n",
       "    <tr>\n",
       "      <th id=\"T_519f3_level0_row14\" class=\"row_heading level0 row14\" >14</th>\n",
       "      <td id=\"T_519f3_row14_col0\" class=\"data row14 col0\" >Encoding method</td>\n",
       "      <td id=\"T_519f3_row14_col1\" class=\"data row14 col1\" >None</td>\n",
       "    </tr>\n",
       "    <tr>\n",
       "      <th id=\"T_519f3_level0_row15\" class=\"row_heading level0 row15\" >15</th>\n",
       "      <td id=\"T_519f3_row15_col0\" class=\"data row15 col0\" >Fold Generator</td>\n",
       "      <td id=\"T_519f3_row15_col1\" class=\"data row15 col1\" >KFold</td>\n",
       "    </tr>\n",
       "    <tr>\n",
       "      <th id=\"T_519f3_level0_row16\" class=\"row_heading level0 row16\" >16</th>\n",
       "      <td id=\"T_519f3_row16_col0\" class=\"data row16 col0\" >Fold Number</td>\n",
       "      <td id=\"T_519f3_row16_col1\" class=\"data row16 col1\" >10</td>\n",
       "    </tr>\n",
       "    <tr>\n",
       "      <th id=\"T_519f3_level0_row17\" class=\"row_heading level0 row17\" >17</th>\n",
       "      <td id=\"T_519f3_row17_col0\" class=\"data row17 col0\" >CPU Jobs</td>\n",
       "      <td id=\"T_519f3_row17_col1\" class=\"data row17 col1\" >-1</td>\n",
       "    </tr>\n",
       "    <tr>\n",
       "      <th id=\"T_519f3_level0_row18\" class=\"row_heading level0 row18\" >18</th>\n",
       "      <td id=\"T_519f3_row18_col0\" class=\"data row18 col0\" >Use GPU</td>\n",
       "      <td id=\"T_519f3_row18_col1\" class=\"data row18 col1\" >False</td>\n",
       "    </tr>\n",
       "    <tr>\n",
       "      <th id=\"T_519f3_level0_row19\" class=\"row_heading level0 row19\" >19</th>\n",
       "      <td id=\"T_519f3_row19_col0\" class=\"data row19 col0\" >Log Experiment</td>\n",
       "      <td id=\"T_519f3_row19_col1\" class=\"data row19 col1\" >False</td>\n",
       "    </tr>\n",
       "    <tr>\n",
       "      <th id=\"T_519f3_level0_row20\" class=\"row_heading level0 row20\" >20</th>\n",
       "      <td id=\"T_519f3_row20_col0\" class=\"data row20 col0\" >Experiment Name</td>\n",
       "      <td id=\"T_519f3_row20_col1\" class=\"data row20 col1\" >reg-default-name</td>\n",
       "    </tr>\n",
       "    <tr>\n",
       "      <th id=\"T_519f3_level0_row21\" class=\"row_heading level0 row21\" >21</th>\n",
       "      <td id=\"T_519f3_row21_col0\" class=\"data row21 col0\" >USI</td>\n",
       "      <td id=\"T_519f3_row21_col1\" class=\"data row21 col1\" >6eb2</td>\n",
       "    </tr>\n",
       "  </tbody>\n",
       "</table>\n"
      ],
      "text/plain": [
       "<pandas.io.formats.style.Styler at 0x25f6cc6c1f0>"
      ]
     },
     "metadata": {},
     "output_type": "display_data"
    },
    {
     "data": {
      "text/html": [
       "<div>\n",
       "<style scoped>\n",
       "    .dataframe tbody tr th:only-of-type {\n",
       "        vertical-align: middle;\n",
       "    }\n",
       "\n",
       "    .dataframe tbody tr th {\n",
       "        vertical-align: top;\n",
       "    }\n",
       "\n",
       "    .dataframe thead th {\n",
       "        text-align: right;\n",
       "    }\n",
       "</style>\n",
       "<table border=\"1\" class=\"dataframe\">\n",
       "  <thead>\n",
       "    <tr style=\"text-align: right;\">\n",
       "      <th></th>\n",
       "      <th></th>\n",
       "      <th></th>\n",
       "    </tr>\n",
       "    <tr>\n",
       "      <th></th>\n",
       "      <th></th>\n",
       "      <th></th>\n",
       "    </tr>\n",
       "  </thead>\n",
       "  <tbody>\n",
       "    <tr>\n",
       "      <th>Initiated</th>\n",
       "      <td>. . . . . . . . . . . . . . . . . .</td>\n",
       "      <td>22:05:54</td>\n",
       "    </tr>\n",
       "    <tr>\n",
       "      <th>Status</th>\n",
       "      <td>. . . . . . . . . . . . . . . . . .</td>\n",
       "      <td>Loading Dependencies</td>\n",
       "    </tr>\n",
       "    <tr>\n",
       "      <th>Estimator</th>\n",
       "      <td>. . . . . . . . . . . . . . . . . .</td>\n",
       "      <td>Compiling Library</td>\n",
       "    </tr>\n",
       "  </tbody>\n",
       "</table>\n",
       "</div>"
      ],
      "text/plain": [
       "                                                                    \n",
       "                                                                    \n",
       "Initiated  . . . . . . . . . . . . . . . . . .              22:05:54\n",
       "Status     . . . . . . . . . . . . . . . . . .  Loading Dependencies\n",
       "Estimator  . . . . . . . . . . . . . . . . . .     Compiling Library"
      ]
     },
     "metadata": {},
     "output_type": "display_data"
    },
    {
     "data": {
      "text/html": [
       "<style type=\"text/css\">\n",
       "</style>\n",
       "<table id=\"T_23893\">\n",
       "  <thead>\n",
       "    <tr>\n",
       "      <th class=\"blank level0\" >&nbsp;</th>\n",
       "      <th id=\"T_23893_level0_col0\" class=\"col_heading level0 col0\" >Model</th>\n",
       "      <th id=\"T_23893_level0_col1\" class=\"col_heading level0 col1\" >MAE</th>\n",
       "      <th id=\"T_23893_level0_col2\" class=\"col_heading level0 col2\" >MSE</th>\n",
       "      <th id=\"T_23893_level0_col3\" class=\"col_heading level0 col3\" >RMSE</th>\n",
       "      <th id=\"T_23893_level0_col4\" class=\"col_heading level0 col4\" >R2</th>\n",
       "      <th id=\"T_23893_level0_col5\" class=\"col_heading level0 col5\" >RMSLE</th>\n",
       "      <th id=\"T_23893_level0_col6\" class=\"col_heading level0 col6\" >MAPE</th>\n",
       "    </tr>\n",
       "  </thead>\n",
       "  <tbody>\n",
       "    <tr>\n",
       "      <th id=\"T_23893_level0_row0\" class=\"row_heading level0 row0\" >0</th>\n",
       "      <td id=\"T_23893_row0_col0\" class=\"data row0 col0\" >Extra Trees Regressor</td>\n",
       "      <td id=\"T_23893_row0_col1\" class=\"data row0 col1\" >0.1650</td>\n",
       "      <td id=\"T_23893_row0_col2\" class=\"data row0 col2\" >0.0404</td>\n",
       "      <td id=\"T_23893_row0_col3\" class=\"data row0 col3\" >0.2011</td>\n",
       "      <td id=\"T_23893_row0_col4\" class=\"data row0 col4\" >0.9648</td>\n",
       "      <td id=\"T_23893_row0_col5\" class=\"data row0 col5\" >0.1133</td>\n",
       "      <td id=\"T_23893_row0_col6\" class=\"data row0 col6\" >0.0862</td>\n",
       "    </tr>\n",
       "  </tbody>\n",
       "</table>\n"
      ],
      "text/plain": [
       "<pandas.io.formats.style.Styler at 0x25f5c771fc0>"
      ]
     },
     "metadata": {},
     "output_type": "display_data"
    },
    {
     "data": {
      "text/html": [
       "<style type=\"text/css\">\n",
       "</style>\n",
       "<table id=\"T_23893\">\n",
       "  <thead>\n",
       "    <tr>\n",
       "      <th class=\"blank level0\" >&nbsp;</th>\n",
       "      <th id=\"T_23893_level0_col0\" class=\"col_heading level0 col0\" >Model</th>\n",
       "      <th id=\"T_23893_level0_col1\" class=\"col_heading level0 col1\" >MAE</th>\n",
       "      <th id=\"T_23893_level0_col2\" class=\"col_heading level0 col2\" >MSE</th>\n",
       "      <th id=\"T_23893_level0_col3\" class=\"col_heading level0 col3\" >RMSE</th>\n",
       "      <th id=\"T_23893_level0_col4\" class=\"col_heading level0 col4\" >R2</th>\n",
       "      <th id=\"T_23893_level0_col5\" class=\"col_heading level0 col5\" >RMSLE</th>\n",
       "      <th id=\"T_23893_level0_col6\" class=\"col_heading level0 col6\" >MAPE</th>\n",
       "    </tr>\n",
       "  </thead>\n",
       "  <tbody>\n",
       "    <tr>\n",
       "      <th id=\"T_23893_level0_row0\" class=\"row_heading level0 row0\" >0</th>\n",
       "      <td id=\"T_23893_row0_col0\" class=\"data row0 col0\" >Extra Trees Regressor</td>\n",
       "      <td id=\"T_23893_row0_col1\" class=\"data row0 col1\" >0.1650</td>\n",
       "      <td id=\"T_23893_row0_col2\" class=\"data row0 col2\" >0.0404</td>\n",
       "      <td id=\"T_23893_row0_col3\" class=\"data row0 col3\" >0.2011</td>\n",
       "      <td id=\"T_23893_row0_col4\" class=\"data row0 col4\" >0.9648</td>\n",
       "      <td id=\"T_23893_row0_col5\" class=\"data row0 col5\" >0.1133</td>\n",
       "      <td id=\"T_23893_row0_col6\" class=\"data row0 col6\" >0.0862</td>\n",
       "    </tr>\n",
       "  </tbody>\n",
       "</table>\n"
      ],
      "text/plain": [
       "<pandas.io.formats.style.Styler at 0x25f5c771fc0>"
      ]
     },
     "metadata": {},
     "output_type": "display_data"
    },
    {
     "data": {
      "text/html": [
       "<style type=\"text/css\">\n",
       "</style>\n",
       "<table id=\"T_23893\">\n",
       "  <thead>\n",
       "    <tr>\n",
       "      <th class=\"blank level0\" >&nbsp;</th>\n",
       "      <th id=\"T_23893_level0_col0\" class=\"col_heading level0 col0\" >Model</th>\n",
       "      <th id=\"T_23893_level0_col1\" class=\"col_heading level0 col1\" >MAE</th>\n",
       "      <th id=\"T_23893_level0_col2\" class=\"col_heading level0 col2\" >MSE</th>\n",
       "      <th id=\"T_23893_level0_col3\" class=\"col_heading level0 col3\" >RMSE</th>\n",
       "      <th id=\"T_23893_level0_col4\" class=\"col_heading level0 col4\" >R2</th>\n",
       "      <th id=\"T_23893_level0_col5\" class=\"col_heading level0 col5\" >RMSLE</th>\n",
       "      <th id=\"T_23893_level0_col6\" class=\"col_heading level0 col6\" >MAPE</th>\n",
       "    </tr>\n",
       "  </thead>\n",
       "  <tbody>\n",
       "    <tr>\n",
       "      <th id=\"T_23893_level0_row0\" class=\"row_heading level0 row0\" >0</th>\n",
       "      <td id=\"T_23893_row0_col0\" class=\"data row0 col0\" >Extra Trees Regressor</td>\n",
       "      <td id=\"T_23893_row0_col1\" class=\"data row0 col1\" >0.1650</td>\n",
       "      <td id=\"T_23893_row0_col2\" class=\"data row0 col2\" >0.0404</td>\n",
       "      <td id=\"T_23893_row0_col3\" class=\"data row0 col3\" >0.2011</td>\n",
       "      <td id=\"T_23893_row0_col4\" class=\"data row0 col4\" >0.9648</td>\n",
       "      <td id=\"T_23893_row0_col5\" class=\"data row0 col5\" >0.1133</td>\n",
       "      <td id=\"T_23893_row0_col6\" class=\"data row0 col6\" >0.0862</td>\n",
       "    </tr>\n",
       "  </tbody>\n",
       "</table>\n"
      ],
      "text/plain": [
       "<pandas.io.formats.style.Styler at 0x25f5c771fc0>"
      ]
     },
     "metadata": {},
     "output_type": "display_data"
    }
   ],
   "source": [
    "df_subject_condition = df[(df['experimental_condition'] == 'Condition 2.5-15') & filt_subject]\n",
    "\n",
    "train = df_subject_condition.sample(frac=0.8, random_state=42)\n",
    "test = df_subject_condition.drop(train.index)\n",
    "\n",
    "reg = setup(data=train, target='rpe')\n",
    "model_subject_condition = compare_models()\n",
    "predictions = predict_model(model_subject_condition, data=test)"
   ]
  },
  {
   "attachments": {},
   "cell_type": "markdown",
   "metadata": {},
   "source": [
    "This model is the most accurate at predicting so far. However, it is important to note that this model is relying only on 98 rows of data to make its analysis, so it may not be entirely reliable. We can see the size of each of the datasets used below:"
   ]
  },
  {
   "cell_type": "code",
   "execution_count": 67,
   "metadata": {},
   "outputs": [
    {
     "name": "stdout",
     "output_type": "stream",
     "text": [
      "--= Number of rows =--\n",
      "General model: \t\t2895\n",
      "Subject model: \t\t280\n",
      "Condition model: \t899\n",
      "Subject-condition model: 98\n"
     ]
    }
   ],
   "source": [
    "print(\"--= Number of rows =--\")\n",
    "print(\"General model: \\t\\t\" + str(df.shape[0]))\n",
    "print(\"Subject model: \\t\\t\" + str(df_subject.shape[0]))\n",
    "print(\"Condition model: \\t\" + str(df_condition.shape[0]))\n",
    "print(\"Subject-condition model: \" + str(df_subject_condition.shape[0]))"
   ]
  },
  {
   "attachments": {},
   "cell_type": "markdown",
   "metadata": {},
   "source": [
    "We can see that the subject-condition model has by far the smallest dataset, being only 35% the size of the next smallest data set (the subject model)."
   ]
  }
 ],
 "metadata": {
  "kernelspec": {
   "display_name": ".venv",
   "language": "python",
   "name": "python3"
  },
  "language_info": {
   "codemirror_mode": {
    "name": "ipython",
    "version": 3
   },
   "file_extension": ".py",
   "mimetype": "text/x-python",
   "name": "python",
   "nbconvert_exporter": "python",
   "pygments_lexer": "ipython3",
   "version": "3.10.10"
  },
  "orig_nbformat": 4
 },
 "nbformat": 4,
 "nbformat_minor": 2
}
