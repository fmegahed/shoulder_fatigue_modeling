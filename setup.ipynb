{
 "cells": [
  {
   "cell_type": "markdown",
   "id": "77efccb0",
   "metadata": {},
   "source": [
    "# Directory Setup File\n",
    "\n",
    "Run this notebook if you do not have the following directory tree in the home directory of the project:\n",
    "~~~\n",
    "outputs/\n",
    "├─ 📁general/\n",
    "├─ 📁individual/\n",
    "├─ 📁summary/\n",
    "~~~\n"
   ]
  },
  {
   "cell_type": "code",
   "execution_count": 2,
   "id": "ffcf6878-2487-4fb3-bb18-c0a090a2770e",
   "metadata": {},
   "outputs": [],
   "source": [
    "import os\n",
    "os.makedirs('outputs/general/', exist_ok=True)\n",
    "os.makedirs('outputs/individual/', exist_ok=True)\n",
    "os.makedirs('outputs/summary/', exist_ok=True)"
   ]
  }
 ],
 "metadata": {
  "kernelspec": {
   "display_name": "venv",
   "language": "python",
   "name": "python3"
  },
  "language_info": {
   "codemirror_mode": {
    "name": "ipython",
    "version": 3
   },
   "file_extension": ".py",
   "mimetype": "text/x-python",
   "name": "python",
   "nbconvert_exporter": "python",
   "pygments_lexer": "ipython3",
   "version": "3.9.12"
  }
 },
 "nbformat": 4,
 "nbformat_minor": 5
}
